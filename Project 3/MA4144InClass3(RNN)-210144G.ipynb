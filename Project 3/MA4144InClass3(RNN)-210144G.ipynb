{
 "cells": [
  {
   "cell_type": "markdown",
   "id": "dda0e25f-476a-43c0-b3e7-f96a707be566",
   "metadata": {
    "deletable": false,
    "editable": false,
    "slideshow": {
     "slide_type": ""
    },
    "tags": []
   },
   "source": [
    "# <center>Recurrent Neural Networks</center>\n",
    "## <center>Inclass Project 3 - MA4144</center>\n",
    "\n",
    "This project contains multiple tasks to be completed, some require written answers. Questions that required written answers are given in blue fonts. Almost all written questions are open ended, they do not have a correct or wrong answer. You are free to give your opinions, but please provide related answers within the context.\n",
    "\n",
    "After finishing project run the entire notebook once and **save the notebook as a pdf** (File menu -> Save and Export Notebook As -> PDF). You are **required to upload both this ipynb file and the PDF on moodle**.\n",
    "\n",
    "***"
   ]
  },
  {
   "cell_type": "markdown",
   "id": "03930b71-f7aa-4eb8-a078-70fc89a1ac16",
   "metadata": {
    "deletable": false,
    "editable": false
   },
   "source": [
    "## Outline of the project\n",
    "\n",
    "The aim of the project is to build a RNN model to suggest autocompletion of half typed words. You may have seen this in many day today applications; typing an email, a text message etc. For example, suppose you type in the four letter \"univ\", the application may suggest you to autocomplete it by \"university\".\n",
    "\n",
    "![Autocomplete](https://d33v4339jhl8k0.cloudfront.net/docs/assets/5c12e83004286304a71d5b72/images/66d0cb106eb51e63b8f9fbc6/file-gBQe016VYt.gif)\n",
    "\n",
    "We will train a RNN to suggest possible autocompletes given $3$ - $4$ starting letters. That is if we input a string \"univ\" hopefully we expect to see an output like \"university\", \"universal\" etc.\n",
    "\n",
    "For this we will use a text file (wordlist.txt) containing 10,000 common English words (you'll find the file on the moodle link). The list of words will be the \"**vocabulary**\" for our model.\n",
    "\n",
    "We will use the Python **torch library** to implement our autocomplete model. \n",
    "\n",
    "***\n"
   ]
  },
  {
   "cell_type": "markdown",
   "id": "f4db6bc0-f7e0-473d-a172-e6579deea2ee",
   "metadata": {
    "deletable": false,
    "editable": false
   },
   "source": [
    "Use the below cell to use any include any imports"
   ]
  },
  {
   "cell_type": "code",
   "execution_count": 1,
   "id": "76fdc286-3211-4a8f-9802-29d28a324bea",
   "metadata": {
    "deletable": false,
    "editable": true,
    "slideshow": {
     "slide_type": ""
    },
    "tags": []
   },
   "outputs": [],
   "source": [
    "import torch\n",
    "import torch.nn as nn\n",
    "import torch.optim as optim\n",
    "import numpy as np\n",
    "import matplotlib.pyplot as plt\n",
    "import random"
   ]
  },
  {
   "cell_type": "markdown",
   "id": "8622b61b-dba8-47bb-8e07-92b77e78f4fa",
   "metadata": {
    "deletable": false,
    "editable": false
   },
   "source": [
    "## Section 1: Preparing the vocabulary"
   ]
  },
  {
   "cell_type": "code",
   "execution_count": 2,
   "id": "555a82e5-e56c-4075-a2a2-071633cd4d4c",
   "metadata": {
    "deletable": false
   },
   "outputs": [],
   "source": [
    "WORD_SIZE = 13"
   ]
  },
  {
   "cell_type": "markdown",
   "id": "ef4f44ef-91d0-4d0e-afb5-a66240c9e1d4",
   "metadata": {
    "deletable": false,
    "editable": false,
    "id": "Instructions"
   },
   "source": [
    "**Q1.** In the following cell provide code to load the text file (each word is in a newline), then extract the words (in lowercase) into a list.\n",
    "\n",
    "For practical reasons of training the model we will only use words that are longer that $3$ letters and that have a maximum length of WORD_SIZE (this will be a constant we set at the beginning - you can change this and experiment with different WORD_SIZEs). As seen above it is set to $13$.\n",
    "\n",
    "So out of the extracted list of words filter out those words that match our criteria on word length.\n",
    "\n",
    "To train our model it is convenient to have words/strings of equal length. We will choose to convert every word to length of WORD_SIZE, by adding underscores to the end of the word if it is initially shorter than WORD_SIZE. For example, we will convert the word \"university\" (word length 10) into \"university___\" (wordlength 13). In your code include this conversion as well.\n",
    "\n",
    "Store the processed WORD_SIZE lengthed strings in a list called vocab."
   ]
  },
  {
   "cell_type": "code",
   "execution_count": 3,
   "id": "3219551c-a298-424a-a491-2d7f65a4ad6f",
   "metadata": {
    "deletable": false
   },
   "outputs": [
    {
     "name": "stdout",
     "output_type": "stream",
     "text": [
      "Vocabulary prepared: 8847 words\n"
     ]
    }
   ],
   "source": [
    "# Load the wordlist.txt file and process the words\n",
    "with open('wordlist.txt', 'r') as file:\n",
    "    words = [line.strip().lower() for line in file.readlines()]\n",
    "\n",
    "# Filter words: longer than 3 letters and maximum length of WORD_SIZE\n",
    "filtered_words = [word for word in words if len(word) > 3 and len(word) <= WORD_SIZE]\n",
    "\n",
    "# Convert words to WORD_SIZE length by padding with underscores\n",
    "vocab = [word + '_' * (WORD_SIZE - len(word)) for word in filtered_words]\n",
    "\n",
    "print(f\"Vocabulary prepared: {len(vocab)} words\")"
   ]
  },
  {
   "cell_type": "markdown",
   "id": "69d3a6fe-c0a7-4808-aa1a-4c3ad6db6de3",
   "metadata": {
    "deletable": false,
    "editable": false,
    "slideshow": {
     "slide_type": ""
    },
    "tags": []
   },
   "source": [
    "<font color='blue'>In the above explanation it was mentioned \"for practical reasons of training the model we will only use words that are longer that $3$ letters and that have a certain maximum length\". In your opinion what could be those practical? Will hit help to build a better model?</font>"
   ]
  },
  {
   "cell_type": "markdown",
   "id": "aaf86cdd-96b2-40eb-8230-c3f04e93cfc4",
   "metadata": {
    "deletable": false,
    "editable": true,
    "id": "Ans1",
    "slideshow": {
     "slide_type": ""
    },
    "tags": []
   },
   "source": [
    "**Answer** \n",
    "\n",
    "The practical reasons for using words longer than 3 letters and with maximum length limitations are:\n",
    "\n",
    "1. **Training Efficiency**: Very short words (≤3 letters) don't provide enough context for meaningful autocompletion. For example, \"cat\" or \"dog\" are already complete and don't need autocompletion.\n",
    "\n",
    "2. **Memory and Computational Constraints**: Very long words require more memory and computational resources. By limiting to WORD_SIZE (13), we keep the model manageable while still covering most common English words.\n",
    "\n",
    "3. **Consistent Input Size**: Having a fixed maximum length allows for efficient batch processing during training. All words are padded to the same length, making tensor operations faster and more straightforward.\n",
    "\n",
    "4. **Realistic Use Case**: In real applications, autocompletion is most useful for moderately long words (4-13 letters). Users typically don't need help with very short words, and extremely long words are rare.\n",
    "\n",
    "This approach will help build a better model because:\n",
    "- It focuses on the most relevant use cases for autocompletion\n",
    "- Reduces noise from trivial cases (very short words)\n",
    "- Enables efficient batch training with uniform input sizes\n",
    "- Balances model complexity with practical utility"
   ]
  },
  {
   "cell_type": "markdown",
   "id": "552b2e6d-f771-4782-8b21-73c121565faa",
   "metadata": {
    "deletable": false,
    "editable": false
   },
   "source": [
    "**Q2** To input words into the model, we will need to convert each letter/character into a number. as we have seen above, the only characters in our list vocab will be the underscore and lowercase english letters. so we will convert these $27$ characters into numbers as follows: underscore -> $0$, 'a' -> $1$, 'b' -> $2$, $\\cdots$, 'z' -> $26$. In the following cell,\n",
    "\n",
    "(i) Implement a method called char_to_num, that takes in a valid character and outputs its numerical assignment.\n",
    "\n",
    "(ii) Implement a method called num_to_char, that takes in a valid number from $0$ to $26$ and outputs the corresponding character.\n",
    "\n",
    "(iii) Implement a method called word_to_numlist, that takes in a word from our vocabulary and outputs a (torch) tensor of numbers that corresponds to each character in the word in that order. For example: the word \"united_______\" will be converted to tensor([21, 14,  9, 20,  5,  4,  0,  0,  0,  0,  0,  0,  0]). You are encouraged to use your char_to_num method for this.\n",
    "\n",
    "(iv) Implement a method called numlist_to_word, that does the opposite of the above described word_to_numlist, given a tensor of numbers from $0$ to $26$, outputs the corresponding word. You are encouraged to use your  num_to_char method for this.\n",
    "\n",
    "Note: As mentioned since we are using the torch library we will be using tensors instead of the usual python lists or numpy arrays. Tensors are the list equivalent in torch. Torch models only accept tensors as input and they output tensors."
   ]
  },
  {
   "cell_type": "code",
   "execution_count": 4,
   "id": "054a4ab4-5883-4948-adc5-eb8916b6234d",
   "metadata": {
    "deletable": false,
    "editable": true,
    "slideshow": {
     "slide_type": ""
    },
    "tags": []
   },
   "outputs": [],
   "source": [
    "def char_to_num(char):\n",
    "    \"\"\"Convert character to number: '_' -> 0, 'a' -> 1, 'b' -> 2, ..., 'z' -> 26\"\"\"\n",
    "    if char == '_':\n",
    "        num = 0\n",
    "    else:\n",
    "        # Convert 'a' to 1, 'b' to 2, etc.\n",
    "        num = ord(char) - ord('a') + 1\n",
    "    return num\n",
    "\n",
    "def num_to_char(num):\n",
    "    \"\"\"Convert number to character: 0 -> '_', 1 -> 'a', 2 -> 'b', ..., 26 -> 'z'\"\"\"\n",
    "    if num == 0:\n",
    "        char = '_'\n",
    "    else:\n",
    "        # Convert 1 to 'a', 2 to 'b', etc.\n",
    "        char = chr(num - 1 + ord('a'))\n",
    "    return char\n",
    "\n",
    "def word_to_numlist(word):\n",
    "    \"\"\"Convert word to tensor of numbers corresponding to each character\"\"\"\n",
    "    num_list = []\n",
    "    for char in word:\n",
    "        num_list.append(char_to_num(char))\n",
    "    numlist = torch.tensor(num_list)\n",
    "    return numlist\n",
    "\n",
    "def numlist_to_word(numlist):\n",
    "    \"\"\"Convert tensor of numbers back to word\"\"\"\n",
    "    word = \"\"\n",
    "    for num in numlist:\n",
    "        word += num_to_char(int(num))\n",
    "    return word\n",
    "\n",
    "# Utility functions ready for use"
   ]
  },
  {
   "cell_type": "markdown",
   "id": "028d1936-fadb-4ddb-9027-3a75960aa6b1",
   "metadata": {
    "deletable": false,
    "editable": false
   },
   "source": [
    "<font color='blue'>We convert letter into just numbers based on their aphabetical order, I claim that it is a very bad way to encode data such as letters to be fed into learning models, please write your explanation to or against my claim. If you are searching for reasons, the keyword 'categorical data' may be useful. Although the letters in our case are not treated as categorical data, the same reasons as for categorical data is applicable. Even if my claim is valid, at the end it won't matter due to something called \"embedding layers\" that we will use in our model. What is an embedding layer? What is it's purpose? Explain.</font> (write answers in the cell below as a string)"
   ]
  },
  {
   "cell_type": "code",
   "execution_count": 5,
   "id": "e29cb406-1f95-46c3-a1e2-d13fe0ed557b",
   "metadata": {
    "deletable": false,
    "editable": true,
    "id": "Ans2",
    "slideshow": {
     "slide_type": ""
    },
    "tags": []
   },
   "outputs": [],
   "source": [
    "# Write answer here as strings:\n",
    "\n",
    "answer = \"\"\"\n",
    "I agree with the claim that converting letters to numbers based on alphabetical order is a problematic way to encode data for learning models. Here's why:\n",
    "\n",
    "PROBLEMS WITH ORDINAL ENCODING OF LETTERS:\n",
    "1. Implies False Ordering: The encoding suggests that 'b' (2) is \"greater than\" 'a' (1) and \"less than\" 'c' (3), which is meaningless for letters. Letters don't have a natural numerical relationship.\n",
    "\n",
    "2. Artificial Distance Relationships: The model might incorrectly learn that 'a' and 'b' are \"closer\" than 'a' and 'z', when in reality all letters should be treated as equally different categories.\n",
    "\n",
    "3. Categorical Data Nature: Letters are categorical data - they represent distinct categories without inherent order. Categorical data should typically be encoded using one-hot encoding or similar methods that don't impose false relationships.\n",
    "\n",
    "EMBEDDING LAYERS - THE SOLUTION:\n",
    "An embedding layer is a learnable lookup table that maps discrete tokens (like our character numbers 0-26) to dense vector representations.\n",
    "\n",
    "PURPOSE OF EMBEDDING LAYERS:\n",
    "1. Learned Representations: Instead of using arbitrary numbers, the model learns meaningful vector representations for each character during training.\n",
    "\n",
    "2. Dense Vectors: Each character gets represented as a dense vector (e.g., 50-dimensional) rather than a sparse one-hot vector or meaningless integer.\n",
    "\n",
    "3. Contextual Meaning: The embedding vectors capture semantic relationships. Characters that often appear in similar contexts will have similar embeddings.\n",
    "\n",
    "4. Efficiency: More memory and computationally efficient than one-hot encoding for large vocabularies.\n",
    "\n",
    "\"\"\"\n"
   ]
  },
  {
   "cell_type": "markdown",
   "id": "92070a74-0f42-435d-a3ba-b38f0d1aaf3c",
   "metadata": {
    "deletable": false,
    "editable": false
   },
   "source": [
    "## Section 2: Implementing the Autocomplete model"
   ]
  },
  {
   "cell_type": "markdown",
   "id": "6cbb965e-afcd-41ae-86f0-2f3d4682e18b",
   "metadata": {
    "deletable": false,
    "editable": false,
    "slideshow": {
     "slide_type": ""
    },
    "tags": []
   },
   "source": [
    "We will implement a RNN LSTM model. The [video tutorial](https://www.youtube.com/watch?v=tL5puCeDr-o) will be useful. Our model will be only one hidden layer, but feel free to sophisticate with more layers after the project for your own experiments.\n",
    "\n",
    "Our model will contain all the training and prediction methods as single package in a class (autocompleteModel) we will define and implement below."
   ]
  },
  {
   "cell_type": "code",
   "execution_count": 6,
   "id": "0dfe311c-669d-4d58-a833-ae3970b6d271",
   "metadata": {
    "deletable": false
   },
   "outputs": [],
   "source": [
    "LEARNING_RATE = 0.008  # Optimized for large model"
   ]
  },
  {
   "cell_type": "code",
   "execution_count": 7,
   "id": "4976fc91-2c4e-497a-954e-9014dd31be5e",
   "metadata": {
    "deletable": false,
    "editable": true,
    "slideshow": {
     "slide_type": ""
    },
    "tags": []
   },
   "outputs": [],
   "source": [
    "class autocompleteModel(nn.Module):\n",
    "\n",
    "    #Constructor\n",
    "    def __init__(self, alphabet_size, embed_dim, hidden_size, num_layers):\n",
    "        super().__init__()\n",
    "\n",
    "        #Set the input parameters to self parameters\n",
    "        self.alphabet_size = alphabet_size\n",
    "        self.embed_dim = embed_dim\n",
    "        self.hidden_size = hidden_size\n",
    "        self.num_layers = num_layers\n",
    "\n",
    "        self.embedding = nn.Embedding(alphabet_size, embed_dim)\n",
    "        self.lstm = nn.LSTM(embed_dim, hidden_size, num_layers, dropout=0.2 if num_layers > 1 else 0)\n",
    "        self.dropout = nn.Dropout(0.3)  # Regularization for better generalization\n",
    "        self.fc = nn.Linear(hidden_size, alphabet_size)\n",
    "\n",
    "    #Feedforward\n",
    "    def forward(self, character, hidden_state, cell_state):\n",
    "        \"\"\"\n",
    "        Forward pass for a single character input.\n",
    "        Compatible with both training and autocompletion modes.\n",
    "        \n",
    "        Args:\n",
    "            character: Input character tensor\n",
    "            hidden_state: LSTM hidden state  \n",
    "            cell_state: LSTM cell state\n",
    "            \n",
    "        Returns:\n",
    "            output: Predicted logits for next character\n",
    "            hidden_state: Updated hidden state\n",
    "            cell_state: Updated cell state\n",
    "        \"\"\"\n",
    "\n",
    "        # Ensure character is the right shape for embedding - make it compatible with seq_first LSTM\n",
    "        if character.dim() == 0:  # scalar\n",
    "            character = character.unsqueeze(0)  # Make it (1,)\n",
    "        \n",
    "        # 1. Embed the input\n",
    "        embedded = self.embedding(character).unsqueeze(0)  # Shape: (1, batch_size=1, embed_dim)\n",
    "        \n",
    "        # 2. Feed to LSTM (seq_first format: seq_len, batch_size, features)\n",
    "        lstm_out, (hidden_state, cell_state) = self.lstm(embedded, (hidden_state, cell_state))\n",
    "        \n",
    "        # 3. Apply dropout for regularization (only during training)\n",
    "        lstm_out = self.dropout(lstm_out)\n",
    "        \n",
    "        # 4. Feed to fully connected layer\n",
    "        output = self.fc(lstm_out.squeeze(0))  # Remove sequence dimension\n",
    "        \n",
    "        return output, hidden_state, cell_state\n",
    "\n",
    "    #Intialize the first hidden state and cell state (for the start of a word) as zero tensors of required length.\n",
    "    def initial_state(self):\n",
    "        h0 = torch.zeros(self.num_layers, 1, self.hidden_size)\n",
    "        c0 = torch.zeros(self.num_layers, 1, self.hidden_size)\n",
    "        return (h0, c0)\n",
    "\n",
    "    #Train the model in epochs given the vocab, the training will be fed in batches of batch_size\n",
    "    def trainModel(self, vocab, epochs = 5, batch_size = 100):\n",
    "        \"\"\"\n",
    "        ⚡ OPTIMIZED FAST TRAINING - Vectorized batch processing\n",
    "        Trains the model using efficient tensor operations instead of character loops.\n",
    "        \n",
    "        Args:\n",
    "            vocab (list): List of padded words used as training data.\n",
    "            epochs (int): Number of training epochs.\n",
    "            batch_size (int): Number of samples per batch.\n",
    "            \n",
    "        Returns:\n",
    "            loss_log (list): List of training losses per batch.\n",
    "        \"\"\"\n",
    "        print(\"🚀 Training with optimized vectorized processing...\")\n",
    "        \n",
    "        #Convert the model into train mode\n",
    "        self.train()\n",
    "\n",
    "        #Set the optimizer (ADAM) with weight decay and learning rate scheduler\n",
    "        criterion = nn.CrossEntropyLoss()\n",
    "        optimizer = optim.Adam(self.parameters(), lr=LEARNING_RATE, weight_decay=1e-5)\n",
    "        \n",
    "        # Learning rate scheduler for better convergence\n",
    "        scheduler = optim.lr_scheduler.ReduceLROnPlateau(optimizer, mode='min', factor=0.8, patience=2)\n",
    "\n",
    "        #Keep a log of the loss at the end of each training cycle.\n",
    "        loss_log = []\n",
    "\n",
    "        #Convert all vocab words to tensors once (preprocessing optimization)\n",
    "        vocab_tensors = [word_to_numlist(word) for word in vocab]\n",
    "        \n",
    "        # Calculate number of iterations per epoch\n",
    "        num_iter = len(vocab_tensors) // batch_size\n",
    "        print(f\"Training: {len(vocab_tensors)} words, {num_iter} batches per epoch\")\n",
    "        \n",
    "        for e in range(epochs):\n",
    "            \n",
    "            # Shuffle the vocab tensors at the start of each epoch\n",
    "            random.shuffle(vocab_tensors)\n",
    "\n",
    "            for i in range(num_iter):\n",
    "\n",
    "                # Get batch of tensor words\n",
    "                vocab_batch = vocab_tensors[i * batch_size : (i + 1) * batch_size]\n",
    "\n",
    "                batch_tensor = torch.stack(vocab_batch, dim=0)  # Shape: (batch_size, word_length)\n",
    "                inputs = batch_tensor[:, :-1].transpose(0, 1)   # Shape: (seq_len, batch_size) \n",
    "                targets = batch_tensor[:, 1:].transpose(0, 1)   # Shape: (seq_len, batch_size)\n",
    "\n",
    "                # Initialize hidden and cell states for the entire batch\n",
    "                hidden_state = torch.zeros(self.num_layers, batch_size, self.hidden_size)\n",
    "                cell_state = torch.zeros(self.num_layers, batch_size, self.hidden_size)\n",
    "                \n",
    "                optimizer.zero_grad()\n",
    "\n",
    "                embedded_chars = self.embedding(inputs)  # Shape: (seq_len, batch_size, embed_dim)\n",
    "                lstm_out, (hidden_state, cell_state) = self.lstm(embedded_chars, (hidden_state, cell_state))\n",
    "                logits = self.fc(lstm_out)  # Shape: (seq_len, batch_size, alphabet_size)\n",
    "\n",
    "                logits_flat = logits.reshape(-1, self.alphabet_size)  # Flatten for loss\n",
    "                targets_flat = targets.reshape(-1)                   # Flatten targets\n",
    "                batch_loss = criterion(logits_flat, targets_flat)\n",
    "                \n",
    "                # Backpropagation and optimization\n",
    "                batch_loss.backward()\n",
    "                optimizer.step()\n",
    "                \n",
    "                # Update the loss_log \n",
    "                loss_log.append(batch_loss.item())\n",
    "\n",
    "            # Calculate average epoch loss for scheduler\n",
    "            epoch_loss = sum(loss_log[-num_iter:]) / num_iter if loss_log else 0\n",
    "            scheduler.step(epoch_loss)\n",
    "            \n",
    "            print(f\"Epoch: {e + 1}, Avg Loss: {epoch_loss:.4f}, LR: {optimizer.param_groups[0]['lr']:.6f}\")\n",
    "\n",
    "        # Plot training progress\n",
    "        plt.figure(figsize=(10, 5))\n",
    "        plt.plot(loss_log, label='Training Loss')\n",
    "        plt.title('Training Loss Curve')\n",
    "        plt.xlabel('Batch Number')\n",
    "        plt.ylabel('Loss')\n",
    "        plt.grid(True)\n",
    "        plt.show()\n",
    "        \n",
    "        return loss_log\n",
    "\n",
    "    # Softmax function (helper function)\n",
    "    def softmax(self, x, temperature=1.0):\n",
    "        \"\"\"Apply softmax with optional temperature scaling\"\"\"\n",
    "        x = x / temperature\n",
    "        exp_x = torch.exp(x - torch.max(x))  # Subtract max for numerical stability\n",
    "        return exp_x / torch.sum(exp_x)\n",
    "\n",
    "    # Perform autocompletion given a sample of strings (typically 3-5 starting letters)  \n",
    "    def autocomplete(self, sample, temperature=0.8, num_attempts=3):\n",
    "        \"\"\"\n",
    "        Enhanced autocompletion with temperature sampling and multiple attempts.\n",
    "        Generates better, more diverse completions by trying multiple sampling approaches.\n",
    "        \"\"\"\n",
    "        # Convert the model into evaluation mode\n",
    "        self.eval()\n",
    "        completed_list = []\n",
    "\n",
    "        with torch.no_grad():\n",
    "            for literal in sample:\n",
    "                best_completion = literal  # Fallback to original if all fail\n",
    "                best_length = len(literal)\n",
    "                \n",
    "                # Try multiple attempts with different temperatures for better results\n",
    "                for attempt in range(num_attempts):\n",
    "                    # Vary temperature: more conservative for first attempt, more creative later\n",
    "                    current_temp = temperature * (0.7 + 0.3 * attempt)\n",
    "                    \n",
    "                    hidden_state, cell_state = self.initial_state()\n",
    "                    input_chars = list(literal)\n",
    "                    \n",
    "                    # Feed the existing characters through the network\n",
    "                    for char in input_chars:\n",
    "                        char_num = char_to_num(char)\n",
    "                        inp = torch.tensor(char_num)\n",
    "                        output, hidden_state, cell_state = self.forward(inp, hidden_state, cell_state)\n",
    "                    \n",
    "                    char_list = input_chars.copy()\n",
    "                    \n",
    "                    # Generate remaining characters with temperature sampling\n",
    "                    for _ in range(WORD_SIZE - len(char_list)):\n",
    "                        # Apply temperature scaling for more controlled randomness\n",
    "                        if output.dim() == 1:\n",
    "                            scaled_output = output / current_temp\n",
    "                            probabilities = torch.softmax(scaled_output, dim=0)\n",
    "                        else:\n",
    "                            scaled_output = output.squeeze() / current_temp\n",
    "                            probabilities = torch.softmax(scaled_output, dim=0)\n",
    "                        \n",
    "                        # Sample next character\n",
    "                        next_char_idx = torch.multinomial(probabilities, 1).item()\n",
    "                        next_char = num_to_char(next_char_idx)\n",
    "                        char_list.append(next_char)\n",
    "                        \n",
    "                        # Stop at underscore (word completion)\n",
    "                        if next_char == '_':\n",
    "                            break\n",
    "                        \n",
    "                        # Feed character for next prediction\n",
    "                        input_tensor = torch.tensor(next_char_idx)\n",
    "                        output, hidden_state, cell_state = self.forward(input_tensor, hidden_state, cell_state)\n",
    "                    \n",
    "                    # Evaluate this completion\n",
    "                    completed_word = ''.join(char_list).rstrip('_')\n",
    "                    \n",
    "                    # Quality criteria: prefer longer, alphabetic completions\n",
    "                    is_valid = completed_word.isalpha() and len(completed_word) > len(literal)\n",
    "                    is_longer = len(completed_word) > best_length\n",
    "                    is_reasonable_length = 5 <= len(completed_word) <= 13\n",
    "                    \n",
    "                    if is_valid and (is_longer or is_reasonable_length):\n",
    "                        best_completion = completed_word\n",
    "                        best_length = len(completed_word)\n",
    "                \n",
    "                completed_list.append(best_completion)\n",
    "    \n",
    "        return completed_list"
   ]
  },
  {
   "cell_type": "markdown",
   "id": "1f9b5489-b770-4519-b20c-4f2beebfb8f9",
   "metadata": {
    "deletable": false,
    "editable": true
   },
   "source": [
    "## Section 3: Using and evaluating the model\n",
    "\n",
    "(i) Initialize and train autocompleteModels using different embedding dimensions and hidden layer sizes. Use different learning rates, epochs, batch sizes. Train the best model you can.\n",
    "\n",
    "(ii) Evaluate it on different samples of partially filled in words to test your model. Eg: [\"univ\", \"math\", \"neur\", \"engin\"] etc.\n",
    "\n",
    "(iii) Set your best model, to the variable best_model. This model will be tested against random inputs (3-4 starting strings of common English words). **This will be the main contributor for your score in this project**."
   ]
  },
  {
   "cell_type": "code",
   "execution_count": 14,
   "id": "5ac2ab12-0cc8-48d1-816f-ab8ec7ac23cd",
   "metadata": {
    "deletable": false
   },
   "outputs": [
    {
     "name": "stdout",
     "output_type": "stream",
     "text": [
      "Training autocompletion model...\n",
      "Training started...\n",
      "🚀 Training with optimized vectorized processing...\n",
      "Training: 8847 words, 110 batches per epoch\n",
      "Epoch: 1, Avg Loss: 1.2818, LR: 0.008000\n",
      "Epoch: 2, Avg Loss: 1.0956, LR: 0.008000\n",
      "Epoch: 3, Avg Loss: 1.0292, LR: 0.008000\n",
      "Epoch: 4, Avg Loss: 0.9740, LR: 0.008000\n",
      "Epoch: 5, Avg Loss: 0.9291, LR: 0.008000\n",
      "Epoch: 6, Avg Loss: 0.8870, LR: 0.008000\n",
      "Epoch: 7, Avg Loss: 0.8548, LR: 0.008000\n",
      "Epoch: 8, Avg Loss: 0.8257, LR: 0.008000\n",
      "Epoch: 9, Avg Loss: 0.8038, LR: 0.008000\n",
      "Epoch: 10, Avg Loss: 0.7850, LR: 0.008000\n",
      "Epoch: 11, Avg Loss: 0.7660, LR: 0.008000\n",
      "Epoch: 12, Avg Loss: 0.7535, LR: 0.008000\n",
      "Epoch: 13, Avg Loss: 0.7437, LR: 0.008000\n",
      "Epoch: 14, Avg Loss: 0.7371, LR: 0.008000\n",
      "Epoch: 15, Avg Loss: 0.7303, LR: 0.008000\n",
      "Epoch: 16, Avg Loss: 0.7212, LR: 0.008000\n",
      "Epoch: 17, Avg Loss: 0.7150, LR: 0.008000\n",
      "Epoch: 18, Avg Loss: 0.7092, LR: 0.008000\n",
      "Epoch: 19, Avg Loss: 0.7076, LR: 0.008000\n",
      "Epoch: 20, Avg Loss: 0.7056, LR: 0.008000\n",
      "Epoch: 21, Avg Loss: 0.7005, LR: 0.008000\n",
      "Epoch: 22, Avg Loss: 0.6982, LR: 0.008000\n",
      "Epoch: 23, Avg Loss: 0.6957, LR: 0.008000\n",
      "Epoch: 24, Avg Loss: 0.6944, LR: 0.008000\n",
      "Epoch: 25, Avg Loss: 0.6937, LR: 0.008000\n"
     ]
    },
    {
     "data": {
      "image/png": "[encoded data removed]",
      "text/plain": [
       "<Figure size 1000x500 with 1 Axes>"
      ]
     },
     "metadata": {},
     "output_type": "display_data"
    },
    {
     "name": "stdout",
     "output_type": "stream",
     "text": [
      "\n",
      "Sample Completions:\n",
      "  'univ' → 'university'\n",
      "  'math' → 'mathemate'\n",
      "  'neur' → 'neural'\n",
      "  'engin' → 'enging'\n",
      "  'comp' → 'complerations'\n",
      "  'prog' → 'program'\n",
      "  'algor' → 'algorithms'\n",
      "  'demo' → 'demoke'\n",
      "  'test' → 'testimony'\n",
      "  'word' → 'words'\n",
      "  'auto' → 'automated'\n",
      "  'netw' → 'networks'\n",
      "  'scien' → 'sciences'\n",
      "  'physi' → 'physically'\n",
      "  'chem' → 'chemister'\n",
      "  'biol' → 'biology'\n",
      "  'stat' → 'stating'\n",
      "  'prob' → 'probab'\n",
      "  'diffe' → 'different'\n",
      "  'calcu' → 'calculate'\n",
      "  'micro' → 'microphone'\n",
      "  'macro' → 'macropers'\n",
      "  'finan' → 'finance'\n",
      "  'manag' → 'managment'\n",
      "  'accou' → 'accountity'\n",
      "  'medic' → 'medications'\n",
      "  'pharm' → 'pharmace'\n",
      "  'psycho' → 'psychoole'\n",
      "  'socio' → 'sociology'\n",
      "  'electr' → 'electroculati'\n",
      "  'mecha' → 'mechanisms'\n",
      "  'civil' → 'civilizating'\n",
      "  'archi' → 'architects'\n",
      "  'astro' → 'astrology'\n",
      "  'geolo' → 'geology'\n",
      "  'envir' → 'environment'\n",
      "  'robot' → 'robots'\n",
      "  'artif' → 'artificially'\n",
      "  'intell' → 'intelligent'\n",
      "  'mach' → 'machinet'\n",
      "  'learn' → 'learn'\n",
      "  'visio' → 'vision'\n",
      "  'audio' → 'audio'\n",
      "  'graph' → 'graphical'\n",
      "  'crypt' → 'cryptims'\n",
      "  'secur' → 'securitial'\n",
      "  'cloud' → 'cloudy'\n",
      "\n",
      "Model ready for use!\n"
     ]
    }
   ],
   "source": [
    "# Test samples for evaluation\n",
    "test_samples = [    \"univ\", \"math\", \"neur\", \"engin\", \"comp\", \"prog\", \"algor\", \"demo\", \"test\", \"word\",\n",
    "    \"auto\", \"netw\", \"scien\", \"physi\", \"chem\", \"biol\", \"stat\", \"prob\", \"diffe\", \"calcu\",\n",
    "    \"micro\", \"macro\", \"finan\", \"manag\", \"accou\", \"medic\", \"pharm\", \"psycho\", \"socio\", \"electr\",\n",
    "    \"mecha\", \"civil\", \"archi\", \"astro\", \"geolo\", \"envir\", \"robot\", \"artif\", \"intell\", \"mach\",\n",
    "    \"learn\", \"visio\", \"audio\", \"graph\", \"crypt\", \"secur\", \"cloud\"]\n",
    "\n",
    "print(\"Training autocompletion model...\")\n",
    "\n",
    "# Reduced configuration for faster training\n",
    "config = {\n",
    "    'name': 'Ultra Premium',\n",
    "    'embed_dim': 192,\n",
    "    'hidden_size': 384,\n",
    "    'epochs': 25,  \n",
    "    'batch_size': 80\n",
    "}\n",
    "\n",
    "\n",
    "# Create and train the model\n",
    "best_model = autocompleteModel(\n",
    "    alphabet_size=27,\n",
    "    embed_dim=config['embed_dim'],\n",
    "    hidden_size=config['hidden_size'],\n",
    "    num_layers=1\n",
    ")\n",
    "\n",
    "# Train the model\n",
    "print(\"Training started...\")\n",
    "best_model.trainModel(vocab, epochs=config['epochs'], batch_size=config['batch_size'])\n",
    "\n",
    "\n",
    "# Test the trained model\n",
    "completions = best_model.autocomplete(test_samples, temperature=0.7, num_attempts=3)\n",
    "\n",
    "print(f\"\\nSample Completions:\")\n",
    "for sample, completion in zip(test_samples, completions):\n",
    "    clean_comp = completion.rstrip('_')\n",
    "    print(f\"  '{sample}' → '{clean_comp}'\")\n",
    "\n",
    "print(f\"\\nModel ready for use!\")"
   ]
  }
 ],
 "metadata": {
  "kernelspec": {
   "display_name": "data_preprocess_env",
   "language": "python",
   "name": "python3"
  },
  "language_info": {
   "codemirror_mode": {
    "name": "ipython",
    "version": 3
   },
   "file_extension": ".py",
   "mimetype": "text/x-python",
   "name": "python",
   "nbconvert_exporter": "python",
   "pygments_lexer": "ipython3",
   "version": "3.11.13"
  }
 },
 "nbformat": 4,
 "nbformat_minor": 5
}
